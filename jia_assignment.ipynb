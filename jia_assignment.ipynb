{
 "cells": [
  {
   "cell_type": "code",
   "execution_count": 35,
   "metadata": {},
   "outputs": [],
   "source": [
    "class Scatter:\n",
    "    \n",
    "    def __init__(self, values):\n",
    "        self.values = values\n",
    "        \n",
    "    def mean(self):\n",
    "        total = sum(self.values)\n",
    "        average = total / len(self.values)\n",
    "        return average\n",
    "    \n",
    "    @staticmethod\n",
    "    def mean_static(values):\n",
    "        total = sum(values)\n",
    "        average = total / len(values)\n",
    "        return average    \n",
    "    \n",
    "    def median(self):\n",
    "        self.values.sort()\n",
    "        if len(self.values) % 2 == 1:\n",
    "            return self.values[len(self.values) // 2]\n",
    "        else:\n",
    "            return (self.values[len(self.values) // 2 - 1] + self.values[len(self.values) // 2]) / 2\n",
    "        \n",
    "    @staticmethod\n",
    "    def median_static(values):\n",
    "        values.sort()\n",
    "        if len(values) % 2 == 1:\n",
    "            return values[len(values) // 2]\n",
    "        else:\n",
    "            return (values[len(values) // 2 - 1] + values[len(values) // 2]) / 2\n",
    "    \n",
    "    def mad(self):\n",
    "        m = self.mean_static(self.values)\n",
    "        l = [abs(n - m) for n in self.values]\n",
    "        return sum(l) / len(l)\n",
    "    \n",
    "    def iqr(self):\n",
    "        self.values.sort()\n",
    "        print(self.values)\n",
    "        point = len(self.values) // 2 + 1\n",
    "        if len(self.values) % 2 == 1:\n",
    "            half1 = self.values[:point - 1]\n",
    "        else:\n",
    "            half1 = self.values[:point - 2]\n",
    "        half2 = self.values[point:]\n",
    "        print(half1)\n",
    "        print(half2)\n",
    "        return self.median_static(half2) - self.median_static(half1)"
   ]
  },
  {
   "cell_type": "code",
   "execution_count": 36,
   "metadata": {},
   "outputs": [],
   "source": [
    "poopy = Scatter([23, 91, 81 ,294 ,491, 912, 31, 12, 21, 932, 142])\n",
    "simple = Scatter([2, 1, 10, 9, 5, 6])"
   ]
  },
  {
   "cell_type": "code",
   "execution_count": 37,
   "metadata": {},
   "outputs": [
    {
     "data": {
      "text/plain": [
       "5.5"
      ]
     },
     "execution_count": 37,
     "metadata": {},
     "output_type": "execute_result"
    }
   ],
   "source": [
    "simple.median()"
   ]
  },
  {
   "cell_type": "code",
   "execution_count": 38,
   "metadata": {},
   "outputs": [
    {
     "name": "stdout",
     "output_type": "stream",
     "text": [
      "[1, 2, 5, 6, 9, 10]\n",
      "[1, 2]\n",
      "[9, 10]\n"
     ]
    },
    {
     "data": {
      "text/plain": [
       "8.0"
      ]
     },
     "execution_count": 38,
     "metadata": {},
     "output_type": "execute_result"
    }
   ],
   "source": [
    "simple.iqr()"
   ]
  },
  {
   "cell_type": "code",
   "execution_count": 39,
   "metadata": {},
   "outputs": [
    {
     "data": {
      "text/plain": [
       "275.45454545454544"
      ]
     },
     "execution_count": 39,
     "metadata": {},
     "output_type": "execute_result"
    }
   ],
   "source": [
    "poopy.mean()"
   ]
  },
  {
   "cell_type": "code",
   "execution_count": 40,
   "metadata": {},
   "outputs": [
    {
     "data": {
      "text/plain": [
       "3.0"
      ]
     },
     "execution_count": 40,
     "metadata": {},
     "output_type": "execute_result"
    }
   ],
   "source": [
    "poopy.mean_static([1,2,3,4,5])"
   ]
  },
  {
   "cell_type": "code",
   "execution_count": 41,
   "metadata": {},
   "outputs": [
    {
     "data": {
      "text/plain": [
       "277.6694214876033"
      ]
     },
     "execution_count": 41,
     "metadata": {},
     "output_type": "execute_result"
    }
   ],
   "source": [
    "poopy.mad()"
   ]
  },
  {
   "cell_type": "code",
   "execution_count": 42,
   "metadata": {
    "scrolled": false
   },
   "outputs": [
    {
     "name": "stdout",
     "output_type": "stream",
     "text": [
      "[12, 21, 23, 31, 81, 91, 142, 294, 491, 912, 932]\n",
      "[12, 21, 23, 31, 81]\n",
      "[142, 294, 491, 912, 932]\n"
     ]
    },
    {
     "data": {
      "text/plain": [
       "468"
      ]
     },
     "execution_count": 42,
     "metadata": {},
     "output_type": "execute_result"
    }
   ],
   "source": [
    "poopy.iqr()"
   ]
  }
 ],
 "metadata": {
  "kernelspec": {
   "display_name": "Python 3",
   "language": "python",
   "name": "python3"
  },
  "language_info": {
   "codemirror_mode": {
    "name": "ipython",
    "version": 3
   },
   "file_extension": ".py",
   "mimetype": "text/x-python",
   "name": "python",
   "nbconvert_exporter": "python",
   "pygments_lexer": "ipython3",
   "version": "3.6.8"
  }
 },
 "nbformat": 4,
 "nbformat_minor": 2
}
